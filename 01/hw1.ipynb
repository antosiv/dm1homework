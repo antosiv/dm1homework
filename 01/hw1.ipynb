{
 "cells": [
  {
   "cell_type": "markdown",
   "metadata": {},
   "source": [
    "**Общая информация**\n",
    "\n",
    "**Срок сдачи:** 13 марта 2017, 06:00 <br\\>\n",
    "**Штраф за опоздание:** -2 балла после 06:00 13 марта, -4 балла после 06:00 20 марта, -6 баллов после 06:00 27 марта\n",
    "\n",
    "При отправлении ДЗ указывайте фамилию в названии файла\n",
    "Присылать ДЗ необходимо в виде ссылки на свой github репозиторий в slack @alkhamush\n",
    "\n",
    "Необходимо в slack создать таск в приватный чат:\n",
    "/todo Фамилия Имя ссылка на гитхаб @alkhamush\n",
    "Пример:\n",
    "/todo Ксения Стройкова https://github.com/stroykova/spheremailru/stroykova_hw1.ipynb @alkhamush\n",
    "\n",
    "Используйте данный Ipython Notebook при оформлении домашнего задания."
   ]
  },
  {
   "cell_type": "markdown",
   "metadata": {},
   "source": [
    "###### Задание 1 (2 баллов)\n",
    "Реализовать KNN в классе MyKNeighborsClassifier (обязательное условие: точность не ниже sklearn реализации)\n",
    "Разберитесь самостоятельно, какая мера расстояния используется в KNeighborsClassifier дефолтно и реализуйте свой алгоритм именно с этой мерой. Самостоятельно разберитесь, как считается score из KNeighborsClassifier и реализуйте аналог в своём классе.\n",
    "\n",
    "###### Задание 2 (2 балла)\n",
    "Добиться скорости работы на fit,  predict и predict_proba сравнимой со sklearn 4 балла для iris и mnist\n",
    "Для этого используем numpy\n",
    "\n",
    "###### Задание 3 (2 балла)\n",
    "Для iris найдите такой параметр n_neighbors, при котором выдаётся наилучший score. Нарисуйте график зависимости score от n_neighbors\n",
    "\n",
    "###### Задание 3 (2 балла)\n",
    "Выполнить требования pep8\n",
    "\n",
    "###### Задание 5 (2 балла)\n",
    "Описать для чего нужны следующие библиотеки/классы/функции (список будет ниже)\n"
   ]
  },
  {
   "cell_type": "code",
   "execution_count": 1,
   "metadata": {},
   "outputs": [],
   "source": [
    "# python3.6\n",
    "import numpy as np\n",
    "import matplotlib.pyplot as plt\n",
    "import seaborn as sns\n",
    "from sklearn import datasets\n",
    "from sklearn.base import ClassifierMixin\n",
    "from sklearn.datasets import fetch_mldata\n",
    "from sklearn.neighbors.base import NeighborsBase, KNeighborsMixin, SupervisedIntegerMixin \n",
    "from sklearn.model_selection import train_test_split\n",
    "from sklearn.neighbors import KNeighborsClassifier\n",
    "%load_ext pycodestyle_magic"
   ]
  },
  {
   "cell_type": "code",
   "execution_count": 2,
   "metadata": {},
   "outputs": [],
   "source": [
    "# %%pycodestyle\n",
    "\n",
    "\n",
    "class MyKNeighborsClassifier(\n",
    "    NeighborsBase,\n",
    "    KNeighborsMixin,\n",
    "    SupervisedIntegerMixin,\n",
    "    ClassifierMixin\n",
    "):\n",
    "\n",
    "    def __init__(self, n_neighbors):\n",
    "        self.k = n_neighbors\n",
    "        self.predict_data = None\n",
    "        self.predict_class = None\n",
    "        self.classes_numb = None\n",
    "\n",
    "    def fit(self, x, y):\n",
    "        self.predict_data = np.array(x)\n",
    "        # cast required for use np.bincount() method\n",
    "        self.predict_class = np.int64(np.array(y))\n",
    "        self.classes_numb = np.unique(self.predict_class).shape[0]\n",
    "\n",
    "    def predict(self, x):\n",
    "\n",
    "        # Minkovsky metrics with p=2 calculation\n",
    "        metrics = np.empty((self.predict_data.shape[0], x.shape[0]))\n",
    "        for i in range(self.predict_data.shape[0]):\n",
    "            metrics[i] = np.sqrt(np.sum(np.square(x - self.predict_data[i]),\n",
    "                                        axis=1\n",
    "                                        )\n",
    "                                 )\n",
    "        metrics = metrics.T\n",
    "\n",
    "        # MemoryError on mnist\n",
    "        # metrics = np.repeat(x, self.predict_data.shape[0], axis=0)\n",
    "        # tmp = np.tile(self.predict_data, (x.shape[0], 1))\n",
    "        # metrics -= tmp\n",
    "        # metrics *= metrics\n",
    "        # metrics = metrics.sum(axis=1)\n",
    "        # metrics = np.sqrt(metrics)\n",
    "        # metrics = metrics.reshape((-1, self.predict_data.shape[0]))\n",
    "\n",
    "        # classes of the nearest rows from\n",
    "        # predict_data to X rows (shape: (X.shape[0], k))\n",
    "        neigh_classes = np.empty((self.k, x.shape[0]), dtype=np.int64)\n",
    "        max_float64 = np.finfo(np.float64).max\n",
    "        for i in range(self.k):\n",
    "            tmp_arg = np.argmin(metrics, axis=1)\n",
    "            neigh_classes[i] = self.predict_class[tmp_arg]\n",
    "            metrics[np.arange(0, x.shape[0]), tmp_arg] = max_float64\n",
    "        neigh_classes = neigh_classes.T\n",
    "\n",
    "        # MemoryError on mnist\n",
    "        # neigh_args = np.argpartition(metrics, self.k, axis=1)[:, :self.k]\n",
    "\n",
    "        res = np.empty((x.shape[0],), dtype=np.int64)\n",
    "\n",
    "        for i in range(x.shape[0]):\n",
    "            res[i] = np.argmax(\n",
    "                np.bincount(neigh_classes[i])\n",
    "            )\n",
    "        return res\n",
    "\n",
    "    def predict_proba(self, x):\n",
    "\n",
    "        # Minkovsky metrics with p=2 calculation\n",
    "        metrics = np.empty((self.predict_data.shape[0], x.shape[0]))\n",
    "        for i in range(self.predict_data.shape[0]):\n",
    "            metrics[i] = np.sqrt(np.sum(np.square(x - self.predict_data[i]),\n",
    "                                        axis=1\n",
    "                                        )\n",
    "                                 )\n",
    "        metrics = metrics.T\n",
    "\n",
    "        # classes of the nearest rows from\n",
    "        # predict_data to X rows (shape: (X.shape[0], k))\n",
    "        neigh_classes = np.empty((self.k, x.shape[0]), dtype=np.int64)\n",
    "        max_float64 = np.finfo(np.float64).max\n",
    "        for i in range(self.k):\n",
    "            tmp_arg = np.argmin(metrics, axis=1)\n",
    "            neigh_classes[i] = self.predict_class[tmp_arg]\n",
    "            metrics[np.arange(0, x.shape[0]), tmp_arg] = max_float64\n",
    "        neigh_classes = neigh_classes.T\n",
    "\n",
    "        res = np.zeros((x.shape[0], self.classes_numb), dtype=np.float64)\n",
    "        for i in range(x.shape[0]):\n",
    "            elems, res[i][elems] = np.unique(neigh_classes[i, :],\n",
    "                                             return_counts=True\n",
    "                                             )\n",
    "\n",
    "        res /= self.k\n",
    "        return res\n",
    "\n",
    "    def score(self, X, y):\n",
    "        tmp = self.predict(X)\n",
    "        mistakes = np.sum(np.bincount(np.abs(tmp - y))[1:])\n",
    "        return 1.0 - mistakes / y.shape[0]\n"
   ]
  },
  {
   "cell_type": "markdown",
   "metadata": {},
   "source": [
    "**IRIS**"
   ]
  },
  {
   "cell_type": "code",
   "execution_count": 3,
   "metadata": {},
   "outputs": [],
   "source": [
    "iris = datasets.load_iris()"
   ]
  },
  {
   "cell_type": "code",
   "execution_count": 4,
   "metadata": {},
   "outputs": [],
   "source": [
    "X_train, X_test, y_train, y_test = train_test_split(iris.data, iris.target, test_size=0.1, stratify=iris.target)"
   ]
  },
  {
   "cell_type": "code",
   "execution_count": 5,
   "metadata": {},
   "outputs": [],
   "source": [
    "clf = KNeighborsClassifier(n_neighbors=2)\n",
    "my_clf = MyKNeighborsClassifier(n_neighbors=2)"
   ]
  },
  {
   "cell_type": "code",
   "execution_count": 6,
   "metadata": {},
   "outputs": [
    {
     "name": "stdout",
     "output_type": "stream",
     "text": [
      "CPU times: user 0 ns, sys: 2.05 ms, total: 2.05 ms\n",
      "Wall time: 20.8 ms\n"
     ]
    },
    {
     "data": {
      "text/plain": [
       "KNeighborsClassifier(algorithm='auto', leaf_size=30, metric='minkowski',\n",
       "           metric_params=None, n_jobs=1, n_neighbors=2, p=2,\n",
       "           weights='uniform')"
      ]
     },
     "execution_count": 6,
     "metadata": {},
     "output_type": "execute_result"
    }
   ],
   "source": [
    "%time clf.fit(X_train, y_train)"
   ]
  },
  {
   "cell_type": "code",
   "execution_count": 7,
   "metadata": {},
   "outputs": [
    {
     "name": "stdout",
     "output_type": "stream",
     "text": [
      "CPU times: user 329 µs, sys: 51 µs, total: 380 µs\n",
      "Wall time: 283 µs\n"
     ]
    }
   ],
   "source": [
    "%time my_clf.fit(X_train, y_train)"
   ]
  },
  {
   "cell_type": "code",
   "execution_count": 9,
   "metadata": {},
   "outputs": [
    {
     "name": "stdout",
     "output_type": "stream",
     "text": [
      "CPU times: user 1.03 ms, sys: 159 µs, total: 1.19 ms\n",
      "Wall time: 975 µs\n"
     ]
    },
    {
     "data": {
      "text/plain": [
       "array([0, 1, 2, 2, 1, 0, 1, 2, 0, 1, 0, 2, 0, 2, 1])"
      ]
     },
     "execution_count": 9,
     "metadata": {},
     "output_type": "execute_result"
    }
   ],
   "source": [
    "%time clf.predict(X_test)"
   ]
  },
  {
   "cell_type": "code",
   "execution_count": 10,
   "metadata": {},
   "outputs": [
    {
     "name": "stdout",
     "output_type": "stream",
     "text": [
      "CPU times: user 4.74 ms, sys: 107 µs, total: 4.85 ms\n",
      "Wall time: 4.03 ms\n"
     ]
    },
    {
     "data": {
      "text/plain": [
       "array([0, 1, 2, 2, 1, 0, 1, 2, 0, 1, 0, 2, 0, 2, 1])"
      ]
     },
     "execution_count": 10,
     "metadata": {},
     "output_type": "execute_result"
    }
   ],
   "source": [
    "%time my_clf.predict(X_test)"
   ]
  },
  {
   "cell_type": "code",
   "execution_count": 11,
   "metadata": {},
   "outputs": [
    {
     "name": "stdout",
     "output_type": "stream",
     "text": [
      "CPU times: user 1.06 ms, sys: 165 µs, total: 1.22 ms\n",
      "Wall time: 917 µs\n"
     ]
    },
    {
     "data": {
      "text/plain": [
       "array([[1., 0., 0.],\n",
       "       [0., 1., 0.],\n",
       "       [0., 0., 1.],\n",
       "       [0., 0., 1.],\n",
       "       [0., 1., 0.],\n",
       "       [1., 0., 0.],\n",
       "       [0., 1., 0.],\n",
       "       [0., 0., 1.],\n",
       "       [1., 0., 0.],\n",
       "       [0., 1., 0.],\n",
       "       [1., 0., 0.],\n",
       "       [0., 0., 1.],\n",
       "       [1., 0., 0.],\n",
       "       [0., 0., 1.],\n",
       "       [0., 1., 0.]])"
      ]
     },
     "execution_count": 11,
     "metadata": {},
     "output_type": "execute_result"
    }
   ],
   "source": [
    "%time clf.predict_proba(X_test)"
   ]
  },
  {
   "cell_type": "code",
   "execution_count": 12,
   "metadata": {},
   "outputs": [
    {
     "name": "stdout",
     "output_type": "stream",
     "text": [
      "CPU times: user 5.41 ms, sys: 212 µs, total: 5.62 ms\n",
      "Wall time: 4.02 ms\n"
     ]
    },
    {
     "data": {
      "text/plain": [
       "array([[1., 0., 0.],\n",
       "       [0., 1., 0.],\n",
       "       [0., 0., 1.],\n",
       "       [0., 0., 1.],\n",
       "       [0., 1., 0.],\n",
       "       [1., 0., 0.],\n",
       "       [0., 1., 0.],\n",
       "       [0., 0., 1.],\n",
       "       [1., 0., 0.],\n",
       "       [0., 1., 0.],\n",
       "       [1., 0., 0.],\n",
       "       [0., 0., 1.],\n",
       "       [1., 0., 0.],\n",
       "       [0., 0., 1.],\n",
       "       [0., 1., 0.]])"
      ]
     },
     "execution_count": 12,
     "metadata": {},
     "output_type": "execute_result"
    }
   ],
   "source": [
    "%time my_clf.predict_proba(X_test)"
   ]
  },
  {
   "cell_type": "code",
   "execution_count": 13,
   "metadata": {},
   "outputs": [
    {
     "data": {
      "text/plain": [
       "1.0"
      ]
     },
     "execution_count": 13,
     "metadata": {},
     "output_type": "execute_result"
    }
   ],
   "source": [
    "clf.score(X_test, y_test)"
   ]
  },
  {
   "cell_type": "code",
   "execution_count": 14,
   "metadata": {},
   "outputs": [
    {
     "data": {
      "text/plain": [
       "1.0"
      ]
     },
     "execution_count": 14,
     "metadata": {},
     "output_type": "execute_result"
    }
   ],
   "source": [
    "my_clf.score(X_test, y_test)"
   ]
  },
  {
   "cell_type": "code",
   "execution_count": 15,
   "metadata": {},
   "outputs": [
    {
     "name": "stdout",
     "output_type": "stream",
     "text": [
      "17 - optimal n_neighbors value\n"
     ]
    },
    {
     "data": {
      "image/png": "[encoded data removed]",
      "text/plain": [
       "<matplotlib.figure.Figure at 0x7f8de9fb7a20>"
      ]
     },
     "metadata": {},
     "output_type": "display_data"
    }
   ],
   "source": [
    "# %%pycodestyle\n",
    "# Задание 3\n",
    "# I run this a few times, for every time 17 is an optimal n_neighbors value\n",
    "\n",
    "# with this parameters works a few seconds\n",
    "max_n_neighbors = 25\n",
    "iterations = 2000\n",
    "\n",
    "neighbors = range(1, max_n_neighbors)\n",
    "\n",
    "# sum score calculating\n",
    "sum_score = [0.0 for _ in neighbors]\n",
    "iris = datasets.load_iris()\n",
    "for _ in range(iterations):\n",
    "    X_train, X_test, y_train, y_test = train_test_split(\n",
    "        iris.data, iris.target, test_size=0.1, stratify=iris.target\n",
    "    )\n",
    "    for i in neighbors:\n",
    "        # MyKNeighborsClassifier works slower\n",
    "        tmp_knn = KNeighborsClassifier(n_neighbors=i)\n",
    "        tmp_knn.fit(X_train, y_train)\n",
    "        sum_score[i - 1] += tmp_knn.score(X_test, y_test)\n",
    "# plot stuff\n",
    "plt.xticks(neighbors)\n",
    "plt.ylabel('sum score')\n",
    "plt.xlabel('n_neighbors')\n",
    "plt.grid(b=True, axis='both')\n",
    "plt.plot(neighbors, sum_score, color='blue', label='test')\n",
    "print(np.argmax(np.array(sum_score)) + 1, '- optimal n_neighbors value')"
   ]
  },
  {
   "cell_type": "markdown",
   "metadata": {},
   "source": [
    "**MNIST**"
   ]
  },
  {
   "cell_type": "code",
   "execution_count": null,
   "metadata": {},
   "outputs": [],
   "source": [
    "mnist = fetch_mldata('MNIST original')"
   ]
  },
  {
   "cell_type": "code",
   "execution_count": null,
   "metadata": {},
   "outputs": [],
   "source": [
    "X_train, X_test, y_train, y_test = train_test_split(mnist.data, mnist.target, test_size=0.1, stratify=mnist.target)"
   ]
  },
  {
   "cell_type": "code",
   "execution_count": null,
   "metadata": {},
   "outputs": [],
   "source": [
    "clf = KNeighborsClassifier(n_neighbors=2)\n",
    "my_clf = MyKNeighborsClassifier(n_neighbors=2)"
   ]
  },
  {
   "cell_type": "code",
   "execution_count": null,
   "metadata": {},
   "outputs": [],
   "source": [
    "%time clf.fit(X_train, y_train)"
   ]
  },
  {
   "cell_type": "code",
   "execution_count": null,
   "metadata": {},
   "outputs": [],
   "source": [
    "%time my_clf.fit(X_train, y_train)"
   ]
  },
  {
   "cell_type": "code",
   "execution_count": null,
   "metadata": {},
   "outputs": [],
   "source": [
    "%time clf.predict(X_test)"
   ]
  },
  {
   "cell_type": "code",
   "execution_count": null,
   "metadata": {},
   "outputs": [],
   "source": [
    "# MemoryError on my laptop\n",
    "%time my_clf.predict(X_test)"
   ]
  },
  {
   "cell_type": "code",
   "execution_count": null,
   "metadata": {},
   "outputs": [],
   "source": [
    "%time clf.predict_proba(X_test)"
   ]
  },
  {
   "cell_type": "code",
   "execution_count": null,
   "metadata": {},
   "outputs": [],
   "source": [
    "# MemoryError on my laptop\n",
    "%time my_clf.predict_proba(X_test)"
   ]
  },
  {
   "cell_type": "code",
   "execution_count": null,
   "metadata": {},
   "outputs": [],
   "source": [
    "clf.score(X_test, y_test)"
   ]
  },
  {
   "cell_type": "code",
   "execution_count": null,
   "metadata": {},
   "outputs": [],
   "source": [
    "# MemoryError on my laptop\n",
    "my_clf.score(X_test, y_test)"
   ]
  },
  {
   "cell_type": "markdown",
   "metadata": {},
   "source": [
    "Задание 5"
   ]
  },
  {
   "cell_type": "code",
   "execution_count": null,
   "metadata": {},
   "outputs": [],
   "source": [
    "# seaborn - библиотека для визуализации данных, основанная на matplotlib.\n",
    "# Позволяет рисовать понятные статистические графики\n",
    "\n",
    "# matplotlib - библиотека для рисования 2D графиков, позволяет рисовать\n",
    "# статичные и интерактивные графики, работающие на разных платформах\n",
    "\n",
    "# train_test_split - разбивает 2 матрицы (данные и результат) случайно\n",
    "# на train и test части. Размеры частей можно указать.\n",
    "\n",
    "# %load_extPipeline (from sklearn.pipeline import Pipeline) - \n",
    "# инструмент sklearn, который позволяет создавать \"конвейер\" \n",
    "# операций с данными и проводить финальную оценку работы.\n",
    "# Один и тот же Pipeline можно применять много раз к разным данным. \n",
    "\n",
    "# StandardScaler (from sklearn.preprocessing import StandardScaler) -\n",
    "# \"стандартизирует\" распределение признака так, что его \n",
    "# математическое ожидание становится = 0, а дисперсия  = 1\n",
    "\n",
    "# ClassifierMixin - миксин (класс, использующийся для\n",
    "# добавления функциональности в другие классы, не являтся базовым,\n",
    "# уменьшает дублирование кода) для всех классификаторов sklearn.\n",
    "# В данном миксине описан метод score\n",
    "\n",
    "# NeighborsBase - базовый класс для оценочных функций, оценивающих\n",
    "# работу инструментов, осонованных на алгоритме\n",
    "# \"ближайших соседей\"\n",
    "\n",
    "# KNeighborsMixin - миксин для поиска к ближайших соседей\n",
    "# SupervisedIntegerMixin - миксин для работы с классификацией\n",
    "# по конечному набору целых чисел"
   ]
  }
 ],
 "metadata": {
  "kernelspec": {
   "display_name": "Python 3",
   "language": "python",
   "name": "python3"
  },
  "language_info": {
   "codemirror_mode": {
    "name": "ipython",
    "version": 3
   },
   "file_extension": ".py",
   "mimetype": "text/x-python",
   "name": "python",
   "nbconvert_exporter": "python",
   "pygments_lexer": "ipython3",
   "version": "3.6.4"
  }
 },
 "nbformat": 4,
 "nbformat_minor": 2
}
