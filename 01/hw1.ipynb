{
 "cells": [
  {
   "cell_type": "markdown",
   "metadata": {},
   "source": [
    "**Общая информация**\n",
    "\n",
    "**Срок сдачи:** 13 марта 2017, 06:00 <br\\>\n",
    "**Штраф за опоздание:** -2 балла после 06:00 13 марта, -4 балла после 06:00 20 марта, -6 баллов после 06:00 27 марта\n",
    "\n",
    "При отправлении ДЗ указывайте фамилию в названии файла\n",
    "Присылать ДЗ необходимо в виде ссылки на свой github репозиторий в slack @alkhamush\n",
    "\n",
    "Необходимо в slack создать таск в приватный чат:\n",
    "/todo Фамилия Имя ссылка на гитхаб @alkhamush\n",
    "Пример:\n",
    "/todo Ксения Стройкова https://github.com/stroykova/spheremailru/stroykova_hw1.ipynb @alkhamush\n",
    "\n",
    "Используйте данный Ipython Notebook при оформлении домашнего задания."
   ]
  },
  {
   "cell_type": "markdown",
   "metadata": {},
   "source": [
    "###### Задание 1 (2 баллов)\n",
    "Реализовать KNN в классе MyKNeighborsClassifier (обязательное условие: точность не ниже sklearn реализации)\n",
    "Разберитесь самостоятельно, какая мера расстояния используется в KNeighborsClassifier дефолтно и реализуйте свой алгоритм именно с этой мерой. Самостоятельно разберитесь, как считается score из KNeighborsClassifier и реализуйте аналог в своём классе.\n",
    "\n",
    "###### Задание 2 (2 балла)\n",
    "Добиться скорости работы на fit,  predict и predict_proba сравнимой со sklearn 4 балла для iris и mnist\n",
    "Для этого используем numpy\n",
    "\n",
    "###### Задание 3 (2 балла)\n",
    "Для iris найдите такой параметр n_neighbors, при котором выдаётся наилучший score. Нарисуйте график зависимости score от n_neighbors\n",
    "\n",
    "###### Задание 3 (2 балла)\n",
    "Выполнить требования pep8\n",
    "\n",
    "###### Задание 5 (2 балла)\n",
    "Описать для чего нужны следующие библиотеки/классы/функции (список будет ниже)\n"
   ]
  },
  {
   "cell_type": "code",
   "execution_count": 34,
   "metadata": {},
   "outputs": [],
   "source": [
    "# python3.6\n",
    "import numpy as np\n",
    "import matplotlib.pyplot as plt\n",
    "import seaborn as sns\n",
    "from sklearn import datasets\n",
    "from sklearn.base import ClassifierMixin\n",
    "from sklearn.datasets import fetch_mldata\n",
    "from sklearn.neighbors.base import NeighborsBase, KNeighborsMixin, SupervisedIntegerMixin \n",
    "from sklearn.model_selection import train_test_split\n",
    "from sklearn.neighbors import KNeighborsClassifier\n",
    "from sklearn.model_selection import cross_val_score\n",
    "\n",
    "import scipy\n",
    "# %load_ext pycodestyle_magic"
   ]
  },
  {
   "cell_type": "code",
   "execution_count": 41,
   "metadata": {},
   "outputs": [],
   "source": [
    "# %%pycodestyle\n",
    "\n",
    "\n",
    "class MyKNeighborsClassifier(\n",
    "    NeighborsBase,\n",
    "    KNeighborsMixin,\n",
    "    SupervisedIntegerMixin,\n",
    "    ClassifierMixin\n",
    "):\n",
    "\n",
    "    def __init__(self, n_neighbors=5):\n",
    "        self.k = n_neighbors\n",
    "        self.predict_data = None\n",
    "        self.predict_class = None\n",
    "        self.classes_numb = None\n",
    "\n",
    "    def fit(self, x, y):\n",
    "        self.predict_data = np.array(x, dtype=np.)\n",
    "        self.predict_class = np.int8(y)\n",
    "        self.classes_numb = np.unique(self.predict_class).shape[0]\n",
    "\n",
    "    def predict(self, x):\n",
    "\n",
    "        # classes of the nearest rows from\n",
    "        # predict_data to X rows (shape: (X.shape[0], k))\n",
    "        neigh_classes = self._neighbors_classes(x)\n",
    "        res = np.empty((x.shape[0],), dtype=np.uint8)\n",
    "\n",
    "        for i in range(x.shape[0]):\n",
    "            res[i] = np.argmax(np.bincount(neigh_classes[i]))\n",
    "        return res\n",
    "\n",
    "    def predict_proba(self, x):\n",
    "\n",
    "        # classes of the nearest rows from\n",
    "        # predict_data to X rows (shape: (X.shape[0], k))\n",
    "        neigh_classes = self._neighbors_classes(x)\n",
    "        res = np.zeros((x.shape[0], self.classes_numb), dtype=np.float32)\n",
    "        for i in range(x.shape[0]):\n",
    "            counts = np.bincount(neigh_classes[i])\n",
    "            res[i, :counts.size] = counts\n",
    "\n",
    "        res /= self.k\n",
    "        return res\n",
    "\n",
    "    def score(self, x, y):\n",
    "        tmp = self.predict(x)\n",
    "        mistakes = np.sum(np.bincount(np.int8(np.abs(tmp - y)))[1:])\n",
    "        return 1.0 - mistakes / y.shape[0]\n",
    "\n",
    "    def _neighbors_classes(self, data):\n",
    "        neighbors_classes = np.empty((data.shape[0],\n",
    "                                      self.k), dtype=np.uint8)\n",
    "        for i in range(data.shape[0]):\n",
    "            neighbors_classes[i] = self.predict_class[\n",
    "                np.argpartition(\n",
    "                    ((np.array(data[i] - self.predict_data,\n",
    "                               dtype=np.float32)) ** 2).sum(axis=1),\n",
    "                    np.arange(self.k))[:self.k]\n",
    "            ]\n",
    "        return neighbors_classes"
   ]
  },
  {
   "cell_type": "markdown",
   "metadata": {},
   "source": [
    "**IRIS**"
   ]
  },
  {
   "cell_type": "code",
   "execution_count": 12,
   "metadata": {},
   "outputs": [],
   "source": [
    "iris = datasets.load_iris()"
   ]
  },
  {
   "cell_type": "code",
   "execution_count": 13,
   "metadata": {},
   "outputs": [],
   "source": [
    "X_train, X_test, y_train, y_test = train_test_split(iris.data, iris.target, test_size=0.1, stratify=iris.target)"
   ]
  },
  {
   "cell_type": "code",
   "execution_count": 14,
   "metadata": {},
   "outputs": [],
   "source": [
    "clf = KNeighborsClassifier(n_neighbors=2)\n",
    "my_clf = MyKNeighborsClassifier(n_neighbors=2)"
   ]
  },
  {
   "cell_type": "code",
   "execution_count": 15,
   "metadata": {},
   "outputs": [
    {
     "name": "stdout",
     "output_type": "stream",
     "text": [
      "CPU times: user 3.33 ms, sys: 5.87 ms, total: 9.21 ms\n",
      "Wall time: 374 ms\n"
     ]
    },
    {
     "data": {
      "text/plain": [
       "KNeighborsClassifier(algorithm='auto', leaf_size=30, metric='minkowski',\n",
       "           metric_params=None, n_jobs=1, n_neighbors=2, p=2,\n",
       "           weights='uniform')"
      ]
     },
     "execution_count": 15,
     "metadata": {},
     "output_type": "execute_result"
    }
   ],
   "source": [
    "%time clf.fit(X_train, y_train)"
   ]
  },
  {
   "cell_type": "code",
   "execution_count": 16,
   "metadata": {},
   "outputs": [
    {
     "name": "stdout",
     "output_type": "stream",
     "text": [
      "CPU times: user 752 µs, sys: 448 µs, total: 1.2 ms\n",
      "Wall time: 22.6 ms\n"
     ]
    }
   ],
   "source": [
    "%time my_clf.fit(X_train, y_train)"
   ]
  },
  {
   "cell_type": "code",
   "execution_count": 17,
   "metadata": {},
   "outputs": [
    {
     "name": "stdout",
     "output_type": "stream",
     "text": [
      "CPU times: user 1.81 ms, sys: 0 ns, total: 1.81 ms\n",
      "Wall time: 9.18 ms\n"
     ]
    },
    {
     "data": {
      "text/plain": [
       "array([2, 1, 0, 2, 1, 0, 2, 0, 2, 0, 1, 1, 2, 2, 0])"
      ]
     },
     "execution_count": 17,
     "metadata": {},
     "output_type": "execute_result"
    }
   ],
   "source": [
    "%time clf.predict(X_test)"
   ]
  },
  {
   "cell_type": "code",
   "execution_count": 18,
   "metadata": {},
   "outputs": [
    {
     "name": "stdout",
     "output_type": "stream",
     "text": [
      "CPU times: user 985 µs, sys: 588 µs, total: 1.57 ms\n",
      "Wall time: 995 µs\n"
     ]
    },
    {
     "data": {
      "text/plain": [
       "array([2, 1, 0, 2, 1, 0, 2, 0, 2, 0, 1, 1, 2, 2, 0], dtype=uint8)"
      ]
     },
     "execution_count": 18,
     "metadata": {},
     "output_type": "execute_result"
    }
   ],
   "source": [
    "%time my_clf.predict(X_test)"
   ]
  },
  {
   "cell_type": "code",
   "execution_count": 19,
   "metadata": {},
   "outputs": [
    {
     "name": "stdout",
     "output_type": "stream",
     "text": [
      "CPU times: user 2.87 ms, sys: 1.72 ms, total: 4.59 ms\n",
      "Wall time: 153 ms\n"
     ]
    },
    {
     "data": {
      "text/plain": [
       "array([[0., 0., 1.],\n",
       "       [0., 1., 0.],\n",
       "       [1., 0., 0.],\n",
       "       [0., 0., 1.],\n",
       "       [0., 1., 0.],\n",
       "       [1., 0., 0.],\n",
       "       [0., 0., 1.],\n",
       "       [1., 0., 0.],\n",
       "       [0., 0., 1.],\n",
       "       [1., 0., 0.],\n",
       "       [0., 1., 0.],\n",
       "       [0., 1., 0.],\n",
       "       [0., 0., 1.],\n",
       "       [0., 0., 1.],\n",
       "       [1., 0., 0.]])"
      ]
     },
     "execution_count": 19,
     "metadata": {},
     "output_type": "execute_result"
    }
   ],
   "source": [
    "%time clf.predict_proba(X_test)"
   ]
  },
  {
   "cell_type": "code",
   "execution_count": 20,
   "metadata": {},
   "outputs": [
    {
     "name": "stdout",
     "output_type": "stream",
     "text": [
      "CPU times: user 1.26 ms, sys: 753 µs, total: 2.01 ms\n",
      "Wall time: 101 ms\n"
     ]
    },
    {
     "data": {
      "text/plain": [
       "array([[0., 0., 1.],\n",
       "       [0., 1., 0.],\n",
       "       [1., 0., 0.],\n",
       "       [0., 0., 1.],\n",
       "       [0., 1., 0.],\n",
       "       [1., 0., 0.],\n",
       "       [0., 0., 1.],\n",
       "       [1., 0., 0.],\n",
       "       [0., 0., 1.],\n",
       "       [1., 0., 0.],\n",
       "       [0., 1., 0.],\n",
       "       [0., 1., 0.],\n",
       "       [0., 0., 1.],\n",
       "       [0., 0., 1.],\n",
       "       [1., 0., 0.]], dtype=float32)"
      ]
     },
     "execution_count": 20,
     "metadata": {},
     "output_type": "execute_result"
    }
   ],
   "source": [
    "%time my_clf.predict_proba(X_test)"
   ]
  },
  {
   "cell_type": "code",
   "execution_count": 21,
   "metadata": {},
   "outputs": [
    {
     "data": {
      "text/plain": [
       "0.9333333333333333"
      ]
     },
     "execution_count": 21,
     "metadata": {},
     "output_type": "execute_result"
    }
   ],
   "source": [
    "clf.score(X_test, y_test)"
   ]
  },
  {
   "cell_type": "code",
   "execution_count": 22,
   "metadata": {},
   "outputs": [
    {
     "data": {
      "text/plain": [
       "0.9333333333333333"
      ]
     },
     "execution_count": 22,
     "metadata": {},
     "output_type": "execute_result"
    }
   ],
   "source": [
    "my_clf.score(X_test, y_test)"
   ]
  },
  {
   "cell_type": "code",
   "execution_count": 44,
   "metadata": {},
   "outputs": [
    {
     "name": "stdout",
     "output_type": "stream",
     "text": [
      "19 - optimal n_neighbors value\n"
     ]
    },
    {
     "data": {
      "image/png": "[encoded data removed]",
      "text/plain": [
       "<matplotlib.figure.Figure at 0x7f35e63a6cf8>"
      ]
     },
     "metadata": {},
     "output_type": "display_data"
    }
   ],
   "source": [
    "# %%pycodestyle\n",
    "# Задание 3\n",
    "\n",
    "max_n_neighbors = 25\n",
    "neighbors = range(1, max_n_neighbors)\n",
    "iris = datasets.load_iris()\n",
    "sum_score = [0.0 for _ in neighbors]\n",
    "for i in neighbors:\n",
    "    # MyKNeighborsClassifier don't work because of cross validation features\n",
    "    # (all cells work, but here are some strange errors)\n",
    "    clf = KNeighborsClassifier(n_neighbors=i)\n",
    "    sum_score[i - 1] = cross_val_score(clf, iris.data,\n",
    "                                       iris.target, cv=25).sum()\n",
    "# plot stuff\n",
    "plt.xticks(neighbors)\n",
    "plt.ylabel('sum score')\n",
    "plt.xlabel('n_neighbors')\n",
    "plt.grid(b=True, axis='both')\n",
    "plt.plot(neighbors, sum_score, color='blue', label='test')\n",
    "print(np.argmax(np.array(sum_score)) + 1, '- optimal n_neighbors value')"
   ]
  },
  {
   "cell_type": "markdown",
   "metadata": {},
   "source": [
    "**MNIST**"
   ]
  },
  {
   "cell_type": "code",
   "execution_count": 23,
   "metadata": {},
   "outputs": [],
   "source": [
    "mnist = fetch_mldata('MNIST original')"
   ]
  },
  {
   "cell_type": "code",
   "execution_count": 24,
   "metadata": {},
   "outputs": [],
   "source": [
    "X_train, X_test, y_train, y_test = train_test_split(mnist.data, mnist.target, test_size=0.1, stratify=mnist.target)"
   ]
  },
  {
   "cell_type": "code",
   "execution_count": 25,
   "metadata": {},
   "outputs": [],
   "source": [
    " clf = KNeighborsClassifier(n_neighbors=2)\n",
    " my_clf = MyKNeighborsClassifier(n_neighbors=2)"
   ]
  },
  {
   "cell_type": "code",
   "execution_count": 26,
   "metadata": {},
   "outputs": [
    {
     "name": "stdout",
     "output_type": "stream",
     "text": [
      "CPU times: user 45.8 s, sys: 196 ms, total: 46 s\n",
      "Wall time: 46 s\n"
     ]
    },
    {
     "data": {
      "text/plain": [
       "KNeighborsClassifier(algorithm='auto', leaf_size=30, metric='minkowski',\n",
       "           metric_params=None, n_jobs=1, n_neighbors=2, p=2,\n",
       "           weights='uniform')"
      ]
     },
     "execution_count": 26,
     "metadata": {},
     "output_type": "execute_result"
    }
   ],
   "source": [
    "%time clf.fit(X_train, y_train)"
   ]
  },
  {
   "cell_type": "code",
   "execution_count": 27,
   "metadata": {},
   "outputs": [
    {
     "name": "stdout",
     "output_type": "stream",
     "text": [
      "CPU times: user 28.9 ms, sys: 48.2 ms, total: 77.1 ms\n",
      "Wall time: 76.1 ms\n"
     ]
    }
   ],
   "source": [
    "%time my_clf.fit(X_train, y_train)"
   ]
  },
  {
   "cell_type": "code",
   "execution_count": 30,
   "metadata": {},
   "outputs": [
    {
     "name": "stdout",
     "output_type": "stream",
     "text": [
      "CPU times: user 12min 35s, sys: 361 ms, total: 12min 35s\n",
      "Wall time: 12min 36s\n"
     ]
    },
    {
     "data": {
      "text/plain": [
       "array([1., 9., 8., ..., 3., 1., 5.])"
      ]
     },
     "execution_count": 30,
     "metadata": {},
     "output_type": "execute_result"
    }
   ],
   "source": [
    "%time clf.predict(X_test)"
   ]
  },
  {
   "cell_type": "code",
   "execution_count": 29,
   "metadata": {},
   "outputs": [
    {
     "name": "stdout",
     "output_type": "stream",
     "text": [
      "CPU times: user 18min 59s, sys: 15min 55s, total: 34min 55s\n",
      "Wall time: 35min 15s\n"
     ]
    },
    {
     "data": {
      "text/plain": [
       "array([1, 9, 8, ..., 3, 1, 5], dtype=uint8)"
      ]
     },
     "execution_count": 29,
     "metadata": {},
     "output_type": "execute_result"
    }
   ],
   "source": [
    "%time my_clf.predict(X_test)"
   ]
  },
  {
   "cell_type": "code",
   "execution_count": 32,
   "metadata": {},
   "outputs": [
    {
     "name": "stdout",
     "output_type": "stream",
     "text": [
      "CPU times: user 13min 52s, sys: 307 ms, total: 13min 52s\n",
      "Wall time: 13min 53s\n"
     ]
    },
    {
     "data": {
      "text/plain": [
       "array([[0., 1., 0., ..., 0., 0., 0.],\n",
       "       [0., 0., 0., ..., 0., 0., 1.],\n",
       "       [0., 0., 0., ..., 0., 1., 0.],\n",
       "       ...,\n",
       "       [0., 0., 0., ..., 0., 0., 0.],\n",
       "       [0., 1., 0., ..., 0., 0., 0.],\n",
       "       [0., 0., 0., ..., 0., 0., 0.]])"
      ]
     },
     "execution_count": 32,
     "metadata": {},
     "output_type": "execute_result"
    }
   ],
   "source": [
    "%time clf.predict_proba(X_test)"
   ]
  },
  {
   "cell_type": "code",
   "execution_count": 31,
   "metadata": {},
   "outputs": [
    {
     "name": "stdout",
     "output_type": "stream",
     "text": [
      "CPU times: user 20min 11s, sys: 16min 53s, total: 37min 4s\n",
      "Wall time: 37min 8s\n"
     ]
    },
    {
     "data": {
      "text/plain": [
       "array([[0., 1., 0., ..., 0., 0., 0.],\n",
       "       [0., 0., 0., ..., 0., 0., 1.],\n",
       "       [0., 0., 0., ..., 0., 1., 0.],\n",
       "       ...,\n",
       "       [0., 0., 0., ..., 0., 0., 0.],\n",
       "       [0., 1., 0., ..., 0., 0., 0.],\n",
       "       [0., 0., 0., ..., 0., 0., 0.]], dtype=float32)"
      ]
     },
     "execution_count": 31,
     "metadata": {},
     "output_type": "execute_result"
    }
   ],
   "source": [
    "%time my_clf.predict_proba(X_test)"
   ]
  },
  {
   "cell_type": "code",
   "execution_count": 33,
   "metadata": {},
   "outputs": [
    {
     "data": {
      "text/plain": [
       "0.9675714285714285"
      ]
     },
     "execution_count": 33,
     "metadata": {},
     "output_type": "execute_result"
    }
   ],
   "source": [
    "clf.score(X_test, y_test)"
   ]
  },
  {
   "cell_type": "code",
   "execution_count": 28,
   "metadata": {},
   "outputs": [
    {
     "data": {
      "text/plain": [
       "0.9675714285714285"
      ]
     },
     "execution_count": 28,
     "metadata": {},
     "output_type": "execute_result"
    }
   ],
   "source": [
    "my_clf.score(X_test, y_test)"
   ]
  },
  {
   "cell_type": "markdown",
   "metadata": {},
   "source": [
    "Задание 5"
   ]
  },
  {
   "cell_type": "code",
   "execution_count": null,
   "metadata": {},
   "outputs": [],
   "source": [
    "# seaborn - библиотека для визуализации данных, основанная на matplotlib.\n",
    "# Позволяет рисовать понятные статистические графики\n",
    "\n",
    "# matplotlib - библиотека для рисования 2D графиков, позволяет рисовать\n",
    "# статичные и интерактивные графики, работающие на разных платформах\n",
    "\n",
    "# train_test_split - разбивает 2 матрицы (данные и результат) случайно\n",
    "# на train и test части. Размеры частей можно указать.\n",
    "\n",
    "# %load_extPipeline (from sklearn.pipeline import Pipeline) - \n",
    "# инструмент sklearn, который позволяет создавать \"конвейер\" \n",
    "# операций с данными и проводить финальную оценку работы.\n",
    "# Один и тот же Pipeline можно применять много раз к разным данным. \n",
    "\n",
    "# StandardScaler (from sklearn.preprocessing import StandardScaler) -\n",
    "# \"стандартизирует\" распределение признака так, что его \n",
    "# математическое ожидание становится = 0, а дисперсия  = 1\n",
    "\n",
    "# ClassifierMixin - миксин (класс, использующийся для\n",
    "# добавления функциональности в другие классы, не являтся базовым,\n",
    "# уменьшает дублирование кода) для всех классификаторов sklearn.\n",
    "# В данном миксине описан метод score\n",
    "\n",
    "# NeighborsBase - базовый класс для оценочных функций, оценивающих\n",
    "# работу инструментов, осонованных на алгоритме\n",
    "# \"ближайших соседей\"\n",
    "\n",
    "# KNeighborsMixin - миксин для поиска к ближайших соседей\n",
    "# SupervisedIntegerMixin - миксин для работы с классификацией\n",
    "# по конечному набору целых чисел"
   ]
  }
 ],
 "metadata": {
  "kernelspec": {
   "display_name": "Python 3",
   "language": "python",
   "name": "python3"
  },
  "language_info": {
   "codemirror_mode": {
    "name": "ipython",
    "version": 3
   },
   "file_extension": ".py",
   "mimetype": "text/x-python",
   "name": "python",
   "nbconvert_exporter": "python",
   "pygments_lexer": "ipython3",
   "version": "3.6.4"
  }
 },
 "nbformat": 4,
 "nbformat_minor": 2
}
